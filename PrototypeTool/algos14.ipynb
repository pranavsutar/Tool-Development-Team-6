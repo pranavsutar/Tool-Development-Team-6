{
 "cells": [
  {
   "cell_type": "code",
   "execution_count": 48,
   "metadata": {},
   "outputs": [
    {
     "name": "stdout",
     "output_type": "stream",
     "text": [
      "\n",
      "Data Smell:- context-independent, data value-based indications of latent data quality issues caused by poor practices that may lead to problems in the future.\n",
      "We need  to detect data smells in the dataset and suggest the user to fix them.\n",
      "\n",
      "14 data smells identified in the \"Data Smells in Public Datasets\" paper, categorized by type:\n",
      "Redundant value smells:\n",
      "    red-corr: Correlated features\n",
      "    red-uid: Unique identifiers\n",
      "    red-dup: Duplicate examples\n",
      "Categorical value smells:\n",
      "    cat-hierarchy: Hierarchy from label encoding\n",
      "    cat-bin: Binning categorical features→categorical values with large cardinality + one-hot-encoding\n",
      "Missing value smells:\n",
      "    miss-null: Missing values\n",
      "    miss-sp-val: Special missing values\n",
      "    miss-bin: Binary missing values\n",
      "String value smells:\n",
      "    str-num: Numerical feature as string\n",
      "    str-sanitise: Strings with special characters\n",
      "    str-human: Strings in human-friendly formats\n",
      "Miscellaneous value smells:\n",
      "    misc-unit: Unknown unit of measure\n",
      "    misc-balance: Imbalanced examples\n",
      "    misc-sensitive: Presence of sensitive features\n",
      "\n",
      "Todo: To detect data smells, and suggest the user to fix them\n",
      "\n"
     ]
    }
   ],
   "source": [
    "ToDo = '''\n",
    "Data Smell:- context-independent, data value-based indications of latent data quality issues caused by poor practices that may lead to problems in the future.\n",
    "We need  to detect data smells in the dataset and suggest the user to fix them.\n",
    "\n",
    "14 data smells identified in the \"Data Smells in Public Datasets\" paper, categorized by type:\n",
    "Redundant value smells:\n",
    "    red-corr: Correlated features\n",
    "    red-uid: Unique identifiers\n",
    "    red-dup: Duplicate examples\n",
    "Categorical value smells:\n",
    "    cat-hierarchy: Hierarchy from label encoding\n",
    "    cat-bin: Binning categorical features→categorical values with large cardinality + one-hot-encoding\n",
    "Missing value smells:\n",
    "    miss-null: Missing values\n",
    "    miss-sp-val: Special missing values\n",
    "    miss-bin: Binary missing values\n",
    "String value smells:\n",
    "    str-num: Numerical feature as string\n",
    "    str-sanitise: Strings with special characters\n",
    "    str-human: Strings in human-friendly formats\n",
    "Miscellaneous value smells:\n",
    "    misc-unit: Unknown unit of measure\n",
    "    misc-balance: Imbalanced examples\n",
    "    misc-sensitive: Presence of sensitive features\n",
    "\n",
    "Todo: To detect data smells, and suggest the user to fix them\n",
    "'''\n",
    "print(ToDo)"
   ]
  },
  {
   "cell_type": "code",
   "execution_count": 49,
   "metadata": {},
   "outputs": [],
   "source": [
    "import pandas as pd, numpy as np, matplotlib.pyplot as plt, seaborn as sns \n",
    "import warnings\n",
    "warnings.filterwarnings('ignore')\n"
   ]
  },
  {
   "cell_type": "code",
   "execution_count": 50,
   "metadata": {},
   "outputs": [
    {
     "data": {
      "text/html": [
       "<div>\n",
       "<style scoped>\n",
       "    .dataframe tbody tr th:only-of-type {\n",
       "        vertical-align: middle;\n",
       "    }\n",
       "\n",
       "    .dataframe tbody tr th {\n",
       "        vertical-align: top;\n",
       "    }\n",
       "\n",
       "    .dataframe thead th {\n",
       "        text-align: right;\n",
       "    }\n",
       "</style>\n",
       "<table border=\"1\" class=\"dataframe\">\n",
       "  <thead>\n",
       "    <tr style=\"text-align: right;\">\n",
       "      <th></th>\n",
       "      <th>b</th>\n",
       "      <th>30.83</th>\n",
       "      <th>0</th>\n",
       "      <th>u</th>\n",
       "      <th>g</th>\n",
       "      <th>w</th>\n",
       "      <th>v</th>\n",
       "      <th>1.25</th>\n",
       "      <th>t</th>\n",
       "      <th>t.1</th>\n",
       "      <th>01</th>\n",
       "      <th>f</th>\n",
       "      <th>g.1</th>\n",
       "      <th>00202</th>\n",
       "      <th>0.1</th>\n",
       "      <th>+</th>\n",
       "    </tr>\n",
       "  </thead>\n",
       "  <tbody>\n",
       "    <tr>\n",
       "      <th>0</th>\n",
       "      <td>a</td>\n",
       "      <td>58.67</td>\n",
       "      <td>4.460</td>\n",
       "      <td>u</td>\n",
       "      <td>g</td>\n",
       "      <td>q</td>\n",
       "      <td>h</td>\n",
       "      <td>3.04</td>\n",
       "      <td>t</td>\n",
       "      <td>t</td>\n",
       "      <td>6</td>\n",
       "      <td>f</td>\n",
       "      <td>g</td>\n",
       "      <td>00043</td>\n",
       "      <td>560</td>\n",
       "      <td>+</td>\n",
       "    </tr>\n",
       "    <tr>\n",
       "      <th>1</th>\n",
       "      <td>a</td>\n",
       "      <td>24.50</td>\n",
       "      <td>0.500</td>\n",
       "      <td>u</td>\n",
       "      <td>g</td>\n",
       "      <td>q</td>\n",
       "      <td>h</td>\n",
       "      <td>1.50</td>\n",
       "      <td>t</td>\n",
       "      <td>f</td>\n",
       "      <td>0</td>\n",
       "      <td>f</td>\n",
       "      <td>g</td>\n",
       "      <td>00280</td>\n",
       "      <td>824</td>\n",
       "      <td>+</td>\n",
       "    </tr>\n",
       "    <tr>\n",
       "      <th>2</th>\n",
       "      <td>b</td>\n",
       "      <td>27.83</td>\n",
       "      <td>1.540</td>\n",
       "      <td>u</td>\n",
       "      <td>g</td>\n",
       "      <td>w</td>\n",
       "      <td>v</td>\n",
       "      <td>3.75</td>\n",
       "      <td>t</td>\n",
       "      <td>t</td>\n",
       "      <td>5</td>\n",
       "      <td>t</td>\n",
       "      <td>g</td>\n",
       "      <td>00100</td>\n",
       "      <td>3</td>\n",
       "      <td>+</td>\n",
       "    </tr>\n",
       "    <tr>\n",
       "      <th>3</th>\n",
       "      <td>b</td>\n",
       "      <td>20.17</td>\n",
       "      <td>5.625</td>\n",
       "      <td>u</td>\n",
       "      <td>g</td>\n",
       "      <td>w</td>\n",
       "      <td>v</td>\n",
       "      <td>1.71</td>\n",
       "      <td>t</td>\n",
       "      <td>f</td>\n",
       "      <td>0</td>\n",
       "      <td>f</td>\n",
       "      <td>s</td>\n",
       "      <td>00120</td>\n",
       "      <td>0</td>\n",
       "      <td>+</td>\n",
       "    </tr>\n",
       "    <tr>\n",
       "      <th>4</th>\n",
       "      <td>b</td>\n",
       "      <td>32.08</td>\n",
       "      <td>4.000</td>\n",
       "      <td>u</td>\n",
       "      <td>g</td>\n",
       "      <td>m</td>\n",
       "      <td>v</td>\n",
       "      <td>2.50</td>\n",
       "      <td>t</td>\n",
       "      <td>f</td>\n",
       "      <td>0</td>\n",
       "      <td>t</td>\n",
       "      <td>g</td>\n",
       "      <td>00360</td>\n",
       "      <td>0</td>\n",
       "      <td>+</td>\n",
       "    </tr>\n",
       "  </tbody>\n",
       "</table>\n",
       "</div>"
      ],
      "text/plain": [
       "   b  30.83      0  u  g  w  v  1.25  t t.1  01  f g.1  00202  0.1  +\n",
       "0  a  58.67  4.460  u  g  q  h  3.04  t   t   6  f   g  00043  560  +\n",
       "1  a  24.50  0.500  u  g  q  h  1.50  t   f   0  f   g  00280  824  +\n",
       "2  b  27.83  1.540  u  g  w  v  3.75  t   t   5  t   g  00100    3  +\n",
       "3  b  20.17  5.625  u  g  w  v  1.71  t   f   0  f   s  00120    0  +\n",
       "4  b  32.08  4.000  u  g  m  v  2.50  t   f   0  t   g  00360    0  +"
      ]
     },
     "execution_count": 50,
     "metadata": {},
     "output_type": "execute_result"
    }
   ],
   "source": [
    "df = pd.read_csv(\"data.csv\")\n",
    "df.head()"
   ]
  },
  {
   "cell_type": "code",
   "execution_count": 51,
   "metadata": {},
   "outputs": [
    {
     "data": {
      "text/plain": [
       "Index(['b', '30.83', '0', 'u', 'g', 'w', 'v', '1.25', 't', 't.1', '01', 'f',\n",
       "       'g.1', '00202', '0.1', '+'],\n",
       "      dtype='object')"
      ]
     },
     "execution_count": 51,
     "metadata": {},
     "output_type": "execute_result"
    }
   ],
   "source": [
    "df.columns\n"
   ]
  },
  {
   "cell_type": "code",
   "execution_count": 52,
   "metadata": {},
   "outputs": [
    {
     "data": {
      "text/plain": [
       "b         object\n",
       "30.83     object\n",
       "0        float64\n",
       "u         object\n",
       "g         object\n",
       "w         object\n",
       "v         object\n",
       "1.25     float64\n",
       "t         object\n",
       "t.1       object\n",
       "01         int64\n",
       "f         object\n",
       "g.1       object\n",
       "00202     object\n",
       "0.1        int64\n",
       "+         object\n",
       "dtype: object"
      ]
     },
     "execution_count": 52,
     "metadata": {},
     "output_type": "execute_result"
    }
   ],
   "source": [
    "df.dtypes"
   ]
  },
  {
   "attachments": {},
   "cell_type": "markdown",
   "metadata": {},
   "source": [
    "Checking presence of Headings"
   ]
  },
  {
   "cell_type": "code",
   "execution_count": 53,
   "metadata": {},
   "outputs": [
    {
     "name": "stdout",
     "output_type": "stream",
     "text": [
      "The CSV file does not have headings in the first row.\n"
     ]
    }
   ],
   "source": [
    "import csv\n",
    "\n",
    "filename = \"data.csv\"\n",
    "\n",
    "# Open the CSV file in read mode\n",
    "with open(filename, 'r') as csvfile:\n",
    "\n",
    "  # Create a CSV reader object\n",
    "  csvreader = csv.reader(csvfile)\n",
    "\n",
    "  # Get the first row from the CSV file\n",
    "  first_row = next(csvreader)\n",
    "\n",
    "  # Check if the first row contains headings or not\n",
    "  if any(field.strip() != '' for field in first_row) and not any(field.strip().isdigit() for field in first_row):\n",
    "    print(\"The CSV file has headings in the first row.\")\n",
    "  else:\n",
    "    print(\"The CSV file does not have headings in the first row.\")"
   ]
  },
  {
   "cell_type": "code",
   "execution_count": null,
   "metadata": {},
   "outputs": [],
   "source": []
  },
  {
   "attachments": {},
   "cell_type": "markdown",
   "metadata": {},
   "source": [
    "# 4.4 Missing Value Smells: "
   ]
  },
  {
   "attachments": {},
   "cell_type": "markdown",
   "metadata": {},
   "source": [
    "(1) 4.4.1Missing Null(miss-null)"
   ]
  },
  {
   "cell_type": "code",
   "execution_count": 54,
   "metadata": {},
   "outputs": [
    {
     "name": "stdout",
     "output_type": "stream",
     "text": [
      "There are no missing values in the dataset.\n"
     ]
    }
   ],
   "source": [
    "\n",
    "# Check for missing values\n",
    "missing_values_count = df.isnull().sum().sum()\n",
    "if missing_values_count == 0:\n",
    "    print(\"There are no missing values in the dataset.\")\n",
    "else:\n",
    "    print(\"There are missing values in the dataset.\")\n",
    "    print(\"Number of missing values:\", missing_values_count)\n",
    "    print(\"Percentage of missing values:\", round(missing_values_count / (df.shape[0] * df.shape[1]) * 100, 2), \"%\")\n",
    "\n",
    "    print(\"Missing values in each column:\")\n",
    "    print(df.isnull().sum())\n",
    "\n",
    "\n",
    "\n"
   ]
  },
  {
   "attachments": {},
   "cell_type": "markdown",
   "metadata": {},
   "source": [
    "(2) 4.4.2 miss-sp-val"
   ]
  },
  {
   "cell_type": "code",
   "execution_count": 55,
   "metadata": {},
   "outputs": [
    {
     "name": "stdout",
     "output_type": "stream",
     "text": [
      "There are special missing values in the dataset.\n",
      "Number of special missing values: 449\n",
      "Percentage of special missing values: 4.07 %\n",
      "Special missing values in each column:\n",
      "b : 12\n",
      "30.83 : 12\n",
      "0 : 0\n",
      "u : 6\n",
      "g : 6\n",
      "w : 9\n",
      "v : 9\n",
      "1.25 : 0\n",
      "t : 0\n",
      "t.1 : 0\n",
      "01 : 0\n",
      "f : 0\n",
      "g.1 : 0\n",
      "00202 : 13\n",
      "0.1 : 0\n",
      "+ : 382\n"
     ]
    }
   ],
   "source": [
    "# Check for special missing values\n",
    "special_missing_values = ['-', 'n/a', 'N/A', 'NA', '--', '?']\n",
    "pres = {val: 0 for val in special_missing_values}\n",
    "for val in special_missing_values:\n",
    "    pres[val] = df.isin([val]).sum().sum()\n",
    "\n",
    "if any(pres.values()):\n",
    "    print(\"There are special missing values in the dataset.\")\n",
    "    print(\"Number of special missing values:\", sum(pres.values()))\n",
    "    print(\"Percentage of special missing values:\", round(sum(pres.values()) / (df.shape[0] * df.shape[1]) * 100, 2), \"%\")\n",
    "    print(\"Special missing values in each column:\")\n",
    "    for col in df.columns:\n",
    "        print(col, \":\", df[col].isin(special_missing_values).sum())\n",
    "else:\n",
    "    print(\"There are no special missing values in the dataset.\")\n"
   ]
  },
  {
   "attachments": {},
   "cell_type": "markdown",
   "metadata": {},
   "source": [
    "(3) 4.4.3 Binary missing values (miss-bin)\n"
   ]
  },
  {
   "cell_type": "code",
   "execution_count": 56,
   "metadata": {},
   "outputs": [
    {
     "name": "stdout",
     "output_type": "stream",
     "text": [
      "There are no binary missing values with an implicit meaning in the dataset.\n"
     ]
    }
   ],
   "source": [
    "\n",
    "bin_miss = False\n",
    "# Iterate over each column\n",
    "for col in df.columns:\n",
    "    # Check if there are any missing values in the column\n",
    "    if df[col].isnull().sum() > 0:\n",
    "        # Check if the missing values are binary\n",
    "        if df[col].nunique() == 2:\n",
    "            # Check if there is an implicit meaning to the missing values\n",
    "            non_missing_values = df[col].dropna().unique()\n",
    "            if len(non_missing_values) == 1:\n",
    "                print(f\"{col} contains binary missing values with an implicit meaning of {non_missing_values[0]}\")\n",
    "                bin_miss = True\n",
    "\n",
    "if not bin_miss:\n",
    "    print(\"There are no binary missing values with an implicit meaning in the dataset.\")\n",
    "   "
   ]
  },
  {
   "attachments": {},
   "cell_type": "markdown",
   "metadata": {},
   "source": [
    "# 4.1 Redundant Value Smells "
   ]
  },
  {
   "attachments": {},
   "cell_type": "markdown",
   "metadata": {},
   "source": [
    "(4) 4.1.1 Correlated features (red-corr) "
   ]
  },
  {
   "cell_type": "code",
   "execution_count": 57,
   "metadata": {},
   "outputs": [
    {
     "name": "stdout",
     "output_type": "stream",
     "text": [
      "Maximum correlation value among any two values: 0.3222471778654087\n",
      "There are no highly correlated features in the dataset.\n"
     ]
    }
   ],
   "source": [
    "# Compute the correlation matrix\n",
    "corr_matrix = df.corr()\n",
    "\n",
    "# Identify highly correlated features\n",
    "high_corr_features = set()\n",
    "for i in range(len(corr_matrix.columns)):\n",
    "    for j in range(i):\n",
    "        if abs(corr_matrix.iloc[i, j]) > 0.7: # Change the threshold value as needed\n",
    "            colname = corr_matrix.columns[i]\n",
    "            high_corr_features.add(colname)\n",
    "# Highest cvalue of correlation on non-diagonal elements\n",
    "max_corr = corr_matrix.where(np.triu(np.ones(corr_matrix.shape), k=1).astype(np.bool)).stack().max()\n",
    "print(\"Maximum correlation value among any two values:\", max_corr)\n",
    "\n",
    "# print giving info\n",
    "if len(high_corr_features) > 0:\n",
    "    print(\"There are highly correlated features in the dataset.\")\n",
    "    print(\"Number of highly correlated features:\", len(high_corr_features))\n",
    "    print(\"Highly correlated features:\", high_corr_features)\n",
    "else:\n",
    "    print(\"There are no highly correlated features in the dataset.\")"
   ]
  },
  {
   "attachments": {},
   "cell_type": "markdown",
   "metadata": {},
   "source": [
    "(5) 4.1.2 Unique identifiers (red-uid) -     \n",
    "A machine learning model may learn some hidden relationship between the uids and the target values that produces a high accu-racy during training.  \n",
    "Although uids are useful when per-forming merge or join operations on two or more database tables, they become redundant when training machine learning models.   \n",
    " Their presence in a dataset is a   smell for potential problems in downstream stages.  "
   ]
  },
  {
   "cell_type": "code",
   "execution_count": 58,
   "metadata": {},
   "outputs": [
    {
     "name": "stdout",
     "output_type": "stream",
     "text": [
      "There are no unique identifier columns in the dataset.\n"
     ]
    }
   ],
   "source": [
    "# Identify unique identifier columns\n",
    "uid_cols = []\n",
    "for col in df.columns:\n",
    "    if len(df[col].unique()) == len(df):\n",
    "        uid_cols.append(col)\n",
    "\n",
    "# Print info\n",
    "if len(uid_cols) > 0:\n",
    "    print(\"There are unique identifier columns in the dataset.\")\n",
    "    print(\"Number of unique identifier columns:\", len(uid_cols))\n",
    "    print(\"Unique identifier columns:\", uid_cols)\n",
    "else:\n",
    "    print(\"There are no unique identifier columns in the dataset.\")\n"
   ]
  },
  {
   "attachments": {},
   "cell_type": "markdown",
   "metadata": {},
   "source": [
    "(6) 1.3 Duplicate examples (red-dup)."
   ]
  },
  {
   "cell_type": "code",
   "execution_count": 59,
   "metadata": {},
   "outputs": [
    {
     "name": "stdout",
     "output_type": "stream",
     "text": [
      "There are no duplicate examples in the dataset.\n"
     ]
    }
   ],
   "source": [
    "duplicates = df.duplicated()\n",
    "if any(duplicates):\n",
    "    print(\"Duplicate examples are present in the dataset.\")\n",
    "    print(\"Number of duplicate examples:\", duplicates.sum())\n",
    "    print(\"Indices of duplicate examples:\", df.index[duplicates].tolist())\n",
    "else:\n",
    "    print(\"There are no duplicate examples in the dataset.\")\n"
   ]
  },
  {
   "attachments": {},
   "cell_type": "markdown",
   "metadata": {},
   "source": [
    "# 4.2 Categorical Value Smells"
   ]
  },
  {
   "attachments": {},
   "cell_type": "markdown",
   "metadata": {},
   "source": [
    " (7)  4.2.1 Hierarchy from label encoding (cat-hierarchy)  \n",
    "Label encoding sensitive categorical features can introduce unwanted hierarchy amongst the values and lead to incorrect and biased results in machine learning models.  \n",
    "The presence of sensitive categorical features is a smell to avoid introducing bias into the model.  \n",
    "One-hot encoding technique can be used to avoid unwanted hierarchy amongst the values in sensitive categorical features.\n"
   ]
  },
  {
   "cell_type": "code",
   "execution_count": 60,
   "metadata": {},
   "outputs": [
    {
     "data": {
      "text/plain": [
       "'\\n\\n# Check for label encoding hierarchy\\ncat_features = df.select_dtypes(include=[\\'object\\']).columns.tolist()\\nsensitive_cat_features = [\\'sex\\', \\'race\\']  # Add more sensitive categorical features as necessary\\nhierarchy_detected = False\\n\\nfor feature in cat_features:\\n    if feature not in sensitive_cat_features:\\n        levels = df[feature].unique().tolist()\\n        levels_encoding = dict(zip(levels, range(len(levels))))\\n        expected_encoding = sorted(levels_encoding.values())\\n        \\n        if list(levels_encoding.values()) != expected_encoding:\\n            print(f\"Hierarchy detected in categorical feature: {feature}\")\\n            hierarchy_detected = True\\n\\n# Suggest correction\\nif hierarchy_detected:\\n    print(\"Sensitive categorical features detected. Use one-hot encoding to avoid introducing bias in the model.\")\\nelse:\\n    print(\"No hierarchy detected in categorical features.\")\\n    '"
      ]
     },
     "execution_count": 60,
     "metadata": {},
     "output_type": "execute_result"
    }
   ],
   "source": [
    "\n",
    "# Define list of sensitive categorical features\n",
    "sensitive_features = ['race', 'gender', 'religion','nationality','']\n",
    "\n",
    "# Check if any of the sensitive features are present\n",
    "for feature in sensitive_features:\n",
    "    if feature in df.columns and df[feature].dtype == 'object':\n",
    "        print(f\"Sensitive feature {feature} detected. Consider using one-hot encoding instead of label encoding.\")\n",
    "\n",
    "'''\n",
    "\n",
    "# Check for label encoding hierarchy\n",
    "cat_features = df.select_dtypes(include=['object']).columns.tolist()\n",
    "sensitive_cat_features = ['sex', 'race']  # Add more sensitive categorical features as necessary\n",
    "hierarchy_detected = False\n",
    "\n",
    "for feature in cat_features:\n",
    "    if feature not in sensitive_cat_features:\n",
    "        levels = df[feature].unique().tolist()\n",
    "        levels_encoding = dict(zip(levels, range(len(levels))))\n",
    "        expected_encoding = sorted(levels_encoding.values())\n",
    "        \n",
    "        if list(levels_encoding.values()) != expected_encoding:\n",
    "            print(f\"Hierarchy detected in categorical feature: {feature}\")\n",
    "            hierarchy_detected = True\n",
    "\n",
    "# Suggest correction\n",
    "if hierarchy_detected:\n",
    "    print(\"Sensitive categorical features detected. Use one-hot encoding to avoid introducing bias in the model.\")\n",
    "else:\n",
    "    print(\"No hierarchy detected in categorical features.\")\n",
    "    '''"
   ]
  },
  {
   "attachments": {},
   "cell_type": "markdown",
   "metadata": {},
   "source": [
    "(8)  4.2.2 Binning categorical features (cat-bin)  \n",
    "One-hot encoding a feature with high cardinality can result in a very large feature space and incur higher memory, disk space and computation costs throughout the machine learning lifecycle.  \n",
    "Presence of categorical features with high cardinality in their data is a smell to perform potential data transformations to reduce the cardinality.  \n",
    "A common practice amongst data scientists to address such a problem is to bin several values together.\n"
   ]
  },
  {
   "cell_type": "code",
   "execution_count": 61,
   "metadata": {},
   "outputs": [
    {
     "name": "stdout",
     "output_type": "stream",
     "text": [
      "The '30.83' column has high cardinality with 349 unique values.\n",
      "The 'w' column has high cardinality with 15 unique values.\n",
      "The '00202' column has high cardinality with 170 unique values.\n"
     ]
    }
   ],
   "source": [
    "\n",
    "# loop through each column\n",
    "for col in df.columns:\n",
    "    # check if the column is categorical\n",
    "    if df[col].dtype == 'object':\n",
    "        # check the number of unique values\n",
    "        unique_vals = len(df[col].unique())\n",
    "        # set a threshold for high cardinality\n",
    "        threshold = 10\n",
    "        if unique_vals > threshold:\n",
    "            print(f\"The '{col}' column has high cardinality with {unique_vals} unique values.\")\n",
    "            # perform binning\n",
    "            \n",
    "            # ...\n",
    "        # else:\n",
    "            # print(f\"The '{col}' column has low cardinality with {unique_vals} unique values.\")"
   ]
  },
  {
   "attachments": {},
   "cell_type": "markdown",
   "metadata": {},
   "source": [
    "(9)  4.3.1 Presence of sensitive features (misc-sensitive)  \n",
    "Sensitive features are high-impact features that contribute to biased and unfair model predictions.  \n",
    "Presence of sensitive features are a smell that may lead to biased and unfair model predictions.  \n",
    "Potential mitigation strategies include not using sensitive features during model training and introducing appropriate regularization techniques to combat bias.\n"
   ]
  },
  {
   "cell_type": "code",
   "execution_count": 62,
   "metadata": {},
   "outputs": [
    {
     "name": "stdout",
     "output_type": "stream",
     "text": [
      "There are no sensitive features in the dataset.\n",
      "No mitigation strategies are required.\n"
     ]
    }
   ],
   "source": [
    "\n",
    "for feature in sensitive_features:\n",
    "    if feature in df.columns:\n",
    "        print(f\"{feature} is a sensitive feature and should be handled with care.\")\n",
    "\n",
    "# Check for sensitive features\n",
    "sensitive_features = [\"age\", \"gender\", \"sex\", \"race\", \"religion\",\"ethnic\"]  # Add more sensitive features as necessary, or remove the current ones as we get clarity\n",
    "\n",
    "if any(feature in sensitive_features for feature in df.columns):\n",
    "    print(\"Sensitive features are present in the dataset.\")\n",
    "    print(\"Sensitive features:\", sensitive_features)\n",
    "   \n",
    "\n",
    "# Mitigation strategies \n",
    "    print(\"Potential mitigation strategies:\")\n",
    "    print(\"- Exclude sensitive features from the training set.\")\n",
    "    print(\"- Introduce appropriate regularization techniques to combat bias.\")\n",
    "    print(\"- Consider using trustworthy AI approaches to address issues regarding safety, robustness, explainability, fairness and privacy in machine learning models.\\n\")\n",
    "    print('Suggested code snippet:') \n",
    "    print('''    sensitive_features = [\"age\", \"gender\", \"sex\", \"race\", \"religion\"]\n",
    "    data_filtered = data.drop(sensitive_features, axis=1)\n",
    "    print(\"Sensitive features removed from dataset.\")''')\n",
    "\n",
    "\n",
    "else:\n",
    "    print(\"There are no sensitive features in the dataset.\")\n",
    "    print(\"No mitigation strategies are required.\")\n"
   ]
  },
  {
   "attachments": {},
   "cell_type": "markdown",
   "metadata": {},
   "source": [
    "(10) 4.3.2  Class Imbalance  (misc-balance)"
   ]
  },
  {
   "cell_type": "code",
   "execution_count": 63,
   "metadata": {},
   "outputs": [
    {
     "name": "stdout",
     "output_type": "stream",
     "text": [
      "1) Class imbalance detected in column 'b' with Class imbalance ratio: 0.03 \n",
      "\n",
      "2) Class imbalance detected in column '30.83' with Class imbalance ratio: 0.08 \n",
      "\n",
      "3) Class imbalance detected in column '0' with Class imbalance ratio: 0.05 \n",
      "\n",
      "4) Class imbalance detected in column 'u' with Class imbalance ratio: 0.0 \n",
      "\n",
      "5) Class imbalance detected in column 'g' with Class imbalance ratio: 0.0 \n",
      "\n",
      "6) Class imbalance detected in column 'w' with Class imbalance ratio: 0.02 \n",
      "\n",
      "7) Class imbalance detected in column 'v' with Class imbalance ratio: 0.01 \n",
      "\n",
      "8) Class imbalance detected in column '1.25' with Class imbalance ratio: 0.01 \n",
      "\n",
      "9) Class imbalance detected in column '01' with Class imbalance ratio: 0.0 \n",
      "\n",
      "10) Class imbalance detected in column 'g.1' with Class imbalance ratio: 0.01 \n",
      "\n",
      "11) Class imbalance detected in column '00202' with Class imbalance ratio: 0.01 \n",
      "\n",
      "12) Class imbalance detected in column '0.1' with Class imbalance ratio: 0.0 \n",
      "\n",
      "13) Class imbalance detected in column '+' with Class imbalance ratio: 0.0 \n",
      "\n",
      "Potential mitigation strategies:\n",
      "- Use appropriate sampling techniques to balance the classes.\n",
      "- Use appropriate evaluation metrics.\n",
      "- Use appropriate regularization techniques to combat bias.\n"
     ]
    }
   ],
   "source": [
    "imb = False; nu = 1\n",
    "# Check for class imbalance\n",
    "for col in df.columns:\n",
    "    class_counts = df[col].value_counts()\n",
    "    if class_counts.min() / class_counts.max() < 0.1:\n",
    "        print(f\"{nu}) Class imbalance detected in column '{col}' with \", end= '')\n",
    "        imb = True        \n",
    "        print(\"Class imbalance ratio:\", round(class_counts.min() / class_counts.max(), 2),'\\n')\n",
    "        nu += 1\n",
    "        # ck = class_counts.to_dict()\n",
    "        # # print few elements of dictionary\n",
    "        # print(\"Class counts:\", {k: ck[k] for k in list(ck)[:5]}, '... etc')\n",
    "\n",
    "if imb:\n",
    "    print(\"Potential mitigation strategies:\")\n",
    "    print(\"- Use appropriate sampling techniques to balance the classes.\")\n",
    "    print(\"- Use appropriate evaluation metrics like F1 score, precision, recall, etc. as accuracy is not a good metric for imbalanced datasets.\")\n",
    "    print(\"- Use appropriate regularization techniques like class weights to combat bias.\")\n",
    "else:\n",
    "    print(\"There is no class imbalance in the dataset.\")\n",
    "    print(\"No mitigation strategies are required.\")"
   ]
  },
  {
   "attachments": {},
   "cell_type": "markdown",
   "metadata": {},
   "source": [
    "(11) 4.3.3 Outliers  (misc-out)"
   ]
  },
  {
   "cell_type": "code",
   "execution_count": 64,
   "metadata": {},
   "outputs": [
    {
     "name": "stdout",
     "output_type": "stream",
     "text": [
      "1) Column 0 has 2.467343976777939% outliers\n",
      "2) Column 1.25 has 9.143686502177069% outliers\n",
      "3) Column 01 has 11.46589259796807% outliers\n",
      "4) Column 0.1 has 16.25544267053701% outliers\n",
      "\n",
      "The dataset has outliers\n"
     ]
    },
    {
     "data": {
      "image/png": "[encoded data removed]",
      "text/plain": [
       "<Figure size 640x480 with 1 Axes>"
      ]
     },
     "metadata": {},
     "output_type": "display_data"
    }
   ],
   "source": [
    "# Plot boxplots for all numerical columns\n",
    "sns.boxplot(data=df.select_dtypes(include=['float64', 'int64']))\n",
    "# Visualize boxplots to detect outliers\n",
    "nu = 1;hasOutliers = False\n",
    "for col in df.columns:\n",
    "    # if its numerical column, then print the percentage of outlier\n",
    "    if df[col].dtype == 'float64' or df[col].dtype == 'int64':\n",
    "        # Calculate the first and third quartile\n",
    "        Q1 = df[col].quantile(0.25)\n",
    "        Q3 = df[col].quantile(0.75)\n",
    "        # Calculate the interquartile range\n",
    "        IQR = Q3 - Q1\n",
    "        # Calculate the outlier step\n",
    "        outlier_step = 1.5 * IQR\n",
    "        # Calculate the number of outliers\n",
    "        num_outliers = len(df[(df[col] < Q1 - outlier_step) | (df[col] > Q3 + outlier_step)])\n",
    "        # Calculate the percentage of outliers\n",
    "        perc_outliers = num_outliers / len(df) * 100\n",
    "        print(f'{nu}) Column {col} has {perc_outliers}% outliers')\n",
    "        nu += 1\n",
    "        if perc_outliers > 0:\n",
    "            hasOutliers = True\n",
    "\n",
    "if hasOutliers:\n",
    "    print('\\nThe dataset has outliers')\n",
    "else:\n",
    "    print('\\nThe dataset does not have outliers')\n",
    "\n"
   ]
  },
  {
   "attachments": {},
   "cell_type": "markdown",
   "metadata": {},
   "source": [
    "# 4.5 String Value Smells"
   ]
  },
  {
   "attachments": {},
   "cell_type": "markdown",
   "metadata": {},
   "source": [
    "(12) 4.5.1  Strings with special characters (str-sanitise):  \n",
    "        Presence of leading and trailing whitespaces and special characters in structured data can create potential problems in the data analysis stage.  \n",
    "        Categorical features represented as strings can confuse data analysis tools and lead to false results.  \n",
    "        Handling presence of special characters in string features requires a case-by-case analysis and solution, but removing leading and trailing whitespaces is a common task.  \n"
   ]
  },
  {
   "cell_type": "code",
   "execution_count": 65,
   "metadata": {},
   "outputs": [],
   "source": [
    "import re\n",
    "\n",
    "def detect_special_characters(df):\n",
    "    special_char_features = []\n",
    "    for col in df.columns:\n",
    "        if df[col].dtype == 'object':\n",
    "            pattern = re.compile('[^A-Za-z0-9\\s]+')\n",
    "            match = pattern.search(df[col].iloc[0])\n",
    "            if match:\n",
    "                special_char_features.append(col)\n",
    "    if len(special_char_features) > 0:\n",
    "        print(\"There are features with special characters in the dataset.\")\n",
    "        print(\"Features with special characters:\", special_char_features)\n",
    "    else:\n",
    "        print(\"There are no features with special characters in the dataset.\")"
   ]
  },
  {
   "cell_type": "code",
   "execution_count": 66,
   "metadata": {},
   "outputs": [
    {
     "name": "stdout",
     "output_type": "stream",
     "text": [
      "There are no columns with trailing spaces in the dataset.\n"
     ]
    }
   ],
   "source": [
    "\n",
    "# create a list to store the column names with trailing spaces\n",
    "cols_with_trailing_spaces = []\n",
    "\n",
    "# loop through each column in the dataset\n",
    "for col in df.columns:\n",
    "    # check if the column is a string type\n",
    "    if df[col].dtype == 'object':\n",
    "        # check if the column contains trailing spaces\n",
    "        if df[col].str.endswith(' ').any():\n",
    "            cols_with_trailing_spaces.append(col)\n",
    "\n",
    "# print the columns with trailing spaces\n",
    "if len(cols_with_trailing_spaces) > 0:\n",
    "    print(\"There are columns with trailing spaces in the dataset.\")\n",
    "    print(\"Columns with trailing spaces:\", cols_with_trailing_spaces)\n",
    "else:\n",
    "    print(\"There are no columns with trailing spaces in the dataset.\")\n",
    "\n",
    "    \n",
    "# Check for different string interpretations due to capital letters usage\n",
    "for col in df.select_dtypes(include=['object']):\n",
    "    unique_vals = df[col].str.lower().unique()\n",
    "    if len(unique_vals) != len(set(unique_vals)):\n",
    "        print(f\"Column '{col}' contains different string interpretations due to capital letters usage\")"
   ]
  },
  {
   "cell_type": "code",
   "execution_count": 67,
   "metadata": {},
   "outputs": [],
   "source": [
    "# # refactoring: \n",
    "# for col in df.select_dtypes(include=['object']):\n",
    "#     df[col] = df[col].str.strip()"
   ]
  },
  {
   "attachments": {},
   "cell_type": "markdown",
   "metadata": {},
   "source": [
    "(13) 4.5.2 Numerical features as string (str-num):\n",
    "The presence of features whose name indicates numerical type data, but the data analysis tool interprets the type as string is a smell.\n",
    "Extracting valuable numerical information from such features can be beneficial for model training.\n",
    "Machine learning models tend to perform better when trained with more data."
   ]
  },
  {
   "cell_type": "code",
   "execution_count": 68,
   "metadata": {},
   "outputs": [
    {
     "name": "stdout",
     "output_type": "stream",
     "text": [
      "Numerical columns: []\n",
      "Numerical columns: []\n",
      "Numerical columns: ['0']\n",
      "Numerical columns: ['0']\n",
      "Numerical columns: ['0']\n",
      "Numerical columns: ['0']\n",
      "Numerical columns: ['0']\n",
      "Numerical columns: ['0', '1.25']\n",
      "Numerical columns: ['0', '1.25']\n",
      "Numerical columns: ['0', '1.25']\n",
      "Numerical columns: ['0', '1.25', '01']\n",
      "Numerical columns: ['0', '1.25', '01']\n",
      "Numerical columns: ['0', '1.25', '01']\n",
      "Numerical columns: ['0', '1.25', '01']\n",
      "Numerical columns: ['0', '1.25', '01', '0.1']\n",
      "Numerical columns: ['0', '1.25', '01', '0.1']\n",
      "For Correcting the error:\n",
      " Code snippet:\n",
      "for column in df.columns:\n",
      "\n",
      "    # check if the column contains only numerical values\n",
      "    if df[column].apply(lambda x: str(x).replace('.', '').isdigit()).all():\n",
      "        \n",
      "        # if the column contains only numerical values, convert the data type to float\n",
      "        df[column] = df[column].astype(float)\n",
      "    \n",
      "# save the corrected dataset to a new file\n",
      "df.to_csv(\"corrected_data.csv\", index=False)\n"
     ]
    }
   ],
   "source": [
    "# create empty list to store the column names of numerical features\n",
    "numerical_columns = []\n",
    "\n",
    "# loop through each column in the dataset\n",
    "for column in df.columns:\n",
    "\n",
    "\n",
    "    # check if the column contains only numerical values\n",
    "    if df[column].apply(lambda x: str(x).replace('.', '').isdigit()).all():\n",
    "        \n",
    "        # if the column contains only numerical values, add its name to the list of numerical columns\n",
    "        numerical_columns.append(column)\n",
    "    # print the list of numerical columns\n",
    "    print(\"Numerical columns:\", numerical_columns)\n",
    "\n",
    "# code for correcting numerical features as strings\n",
    "# loop through each column in the dataset\n",
    "print('For Correcting the error:\\n Code snippet:')\n",
    "\n",
    "print('''for column in df.columns:\n",
    "\n",
    "    # check if the column contains only numerical values\n",
    "    if df[column].apply(lambda x: str(x).replace('.', '').isdigit()).all():\n",
    "        \n",
    "        # if the column contains only numerical values, convert the data type to float\n",
    "        df[column] = df[column].astype(float)\n",
    "    \n",
    "# save the corrected dataset to a new file\n",
    "df.to_csv(\"corrected_data.csv\", index=False)''')"
   ]
  },
  {
   "attachments": {},
   "cell_type": "markdown",
   "metadata": {},
   "source": [
    "(14) 4.5.3 Strings in human-friendly formats (str-human):   \n",
    "Numerical information being represented in a human-friendly format is a smell for potential problems during the data analysis stage.   \n",
    "Machine learning models generally perform better when trained with standardised and uniform data.   \n",
    "Converting numerical information from a human-friendly format to a useful numerical representation can be challenging and may require domain knowledge or further investigation.   \n",
    "   \n"
   ]
  },
  {
   "cell_type": "code",
   "execution_count": 72,
   "metadata": {},
   "outputs": [
    {
     "name": "stdout",
     "output_type": "stream",
     "text": [
      "There are no human-friendly formats in the dataset.\n"
     ]
    }
   ],
   "source": [
    "import pandas as pd\n",
    "import re\n",
    "\n",
    "# Load data\n",
    "df = pd.read_csv('data.csv')\n",
    "\n",
    "# Define regex pattern for human-friendly formats\n",
    "pattern = r'^\\d{1,3}(,\\d{3})*(\\.\\d+)?$'\n",
    "hum = False\n",
    "# Loop through columns and check for human-friendly formats\n",
    "for col in df.columns:\n",
    "    if df[col].dtype == 'object':\n",
    "        if df[col].str.match(pattern).all():\n",
    "            # detected human-friendly format\n",
    "            print(f\"Column '{col}' contains human-friendly format\")\n",
    "            hum = True\n",
    "            # # Convert human-friendly format to float\n",
    "            # df[col] = df[col].str.replace(',', '').astype(float)\n",
    "if hum:\n",
    "    print('''\n",
    "    For converting the human-friendly format to float:\n",
    "    Code snippet:\n",
    "    for col in df.columns:\n",
    "        if df[col].dtype == 'object':\n",
    "            if df[col].str.match(pattern).all():\n",
    "                # detected human-friendly format\n",
    "                # Convert human-friendly format to float\n",
    "                df[col] = df[col].str.replace(',', '').astype(float)''')\n",
    "else:\n",
    "    print(\"There are no human-friendly formats in the dataset.\")"
   ]
  }
 ],
 "metadata": {
  "kernelspec": {
   "display_name": "Python 3",
   "language": "python",
   "name": "python3"
  },
  "language_info": {
   "codemirror_mode": {
    "name": "ipython",
    "version": 3
   },
   "file_extension": ".py",
   "mimetype": "text/x-python",
   "name": "python",
   "nbconvert_exporter": "python",
   "pygments_lexer": "ipython3",
   "version": "3.11.2"
  },
  "orig_nbformat": 4,
  "vscode": {
   "interpreter": {
    "hash": "d1e76f36fd497ba09966a644cdb5ca2914f26d4c9a4ffe25cd98fef631710b92"
   }
  }
 },
 "nbformat": 4,
 "nbformat_minor": 2
}
