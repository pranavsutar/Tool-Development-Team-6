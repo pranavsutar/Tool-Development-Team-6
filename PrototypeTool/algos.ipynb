{
 "cells": [
  {
   "cell_type": "code",
   "execution_count": 2,
   "metadata": {},
   "outputs": [
    {
     "name": "stdout",
     "output_type": "stream",
     "text": [
      "\n",
      "Data Smell:- context-independent, data value-based indications of latent data quality issues caused by poor practices that may lead to problems in the future.\n",
      "We need  to detect data smells in the dataset and suggest the user to fix them.\n",
      "\n",
      "14 data smells identified in the \"Data Smells in Public Datasets\" paper, categorized by type:\n",
      "Redundant value smells:\n",
      "    red-corr: Correlated features\n",
      "    red-uid: Unique identifiers\n",
      "    red-dup: Duplicate examples\n",
      "Categorical value smells:\n",
      "    cat-hierarchy: Hierarchy from label encoding\n",
      "    cat-bin: Binning categorical features→categorical values with large cardinality + one-hot-encoding\n",
      "Missing value smells:\n",
      "    miss-null: Missing values\n",
      "    miss-sp-val: Special missing values\n",
      "    miss-bin: Binary missing values\n",
      "String value smells:\n",
      "    str-num: Numerical feature as string\n",
      "    str-sanitise: Strings with special characters\n",
      "    str-human: Strings in human-friendly formats\n",
      "Miscellaneous value smells:\n",
      "    misc-unit: Unknown unit of measure\n",
      "    misc-balance: Imbalanced examples\n",
      "    misc-sensitive: Presence of sensitive features\n",
      "\n",
      "Todo: To detect data smells, and suggest the user to fix them\n",
      "\n"
     ]
    }
   ],
   "source": [
    "ToDo = '''\n",
    "Data Smell:- context-independent, data value-based indications of latent data quality issues caused by poor practices that may lead to problems in the future.\n",
    "We need  to detect data smells in the dataset and suggest the user to fix them.\n",
    "\n",
    "14 data smells identified in the \"Data Smells in Public Datasets\" paper, categorized by type:\n",
    "Redundant value smells:\n",
    "    red-corr: Correlated features\n",
    "    red-uid: Unique identifiers\n",
    "    red-dup: Duplicate examples\n",
    "Categorical value smells:\n",
    "    cat-hierarchy: Hierarchy from label encoding\n",
    "    cat-bin: Binning categorical features→categorical values with large cardinality + one-hot-encoding\n",
    "Missing value smells:\n",
    "    miss-null: Missing values\n",
    "    miss-sp-val: Special missing values\n",
    "    miss-bin: Binary missing values\n",
    "String value smells:\n",
    "    str-num: Numerical feature as string\n",
    "    str-sanitise: Strings with special characters\n",
    "    str-human: Strings in human-friendly formats\n",
    "Miscellaneous value smells:\n",
    "    misc-unit: Unknown unit of measure\n",
    "    misc-balance: Imbalanced examples\n",
    "    misc-sensitive: Presence of sensitive features\n",
    "\n",
    "Todo: To detect data smells, and suggest the user to fix them\n",
    "'''\n",
    "print(ToDo)"
   ]
  },
  {
   "cell_type": "code",
   "execution_count": 3,
   "metadata": {},
   "outputs": [],
   "source": [
    "import pandas as pd, numpy as np, matplotlib.pyplot as plt, seaborn as sns \n",
    "\n"
   ]
  },
  {
   "cell_type": "code",
   "execution_count": 4,
   "metadata": {},
   "outputs": [
    {
     "data": {
      "text/html": [
       "<div>\n",
       "<style scoped>\n",
       "    .dataframe tbody tr th:only-of-type {\n",
       "        vertical-align: middle;\n",
       "    }\n",
       "\n",
       "    .dataframe tbody tr th {\n",
       "        vertical-align: top;\n",
       "    }\n",
       "\n",
       "    .dataframe thead th {\n",
       "        text-align: right;\n",
       "    }\n",
       "</style>\n",
       "<table border=\"1\" class=\"dataframe\">\n",
       "  <thead>\n",
       "    <tr style=\"text-align: right;\">\n",
       "      <th></th>\n",
       "      <th>b</th>\n",
       "      <th>30.83</th>\n",
       "      <th>0</th>\n",
       "      <th>u</th>\n",
       "      <th>g</th>\n",
       "      <th>w</th>\n",
       "      <th>v</th>\n",
       "      <th>1.25</th>\n",
       "      <th>t</th>\n",
       "      <th>t.1</th>\n",
       "      <th>01</th>\n",
       "      <th>f</th>\n",
       "      <th>g.1</th>\n",
       "      <th>00202</th>\n",
       "      <th>0.1</th>\n",
       "      <th>+</th>\n",
       "    </tr>\n",
       "  </thead>\n",
       "  <tbody>\n",
       "    <tr>\n",
       "      <th>0</th>\n",
       "      <td>a</td>\n",
       "      <td>58.67</td>\n",
       "      <td>4.460</td>\n",
       "      <td>u</td>\n",
       "      <td>g</td>\n",
       "      <td>q</td>\n",
       "      <td>h</td>\n",
       "      <td>3.04</td>\n",
       "      <td>t</td>\n",
       "      <td>t</td>\n",
       "      <td>6</td>\n",
       "      <td>f</td>\n",
       "      <td>g</td>\n",
       "      <td>00043</td>\n",
       "      <td>560</td>\n",
       "      <td>+</td>\n",
       "    </tr>\n",
       "    <tr>\n",
       "      <th>1</th>\n",
       "      <td>a</td>\n",
       "      <td>24.50</td>\n",
       "      <td>0.500</td>\n",
       "      <td>u</td>\n",
       "      <td>g</td>\n",
       "      <td>q</td>\n",
       "      <td>h</td>\n",
       "      <td>1.50</td>\n",
       "      <td>t</td>\n",
       "      <td>f</td>\n",
       "      <td>0</td>\n",
       "      <td>f</td>\n",
       "      <td>g</td>\n",
       "      <td>00280</td>\n",
       "      <td>824</td>\n",
       "      <td>+</td>\n",
       "    </tr>\n",
       "    <tr>\n",
       "      <th>2</th>\n",
       "      <td>b</td>\n",
       "      <td>27.83</td>\n",
       "      <td>1.540</td>\n",
       "      <td>u</td>\n",
       "      <td>g</td>\n",
       "      <td>w</td>\n",
       "      <td>v</td>\n",
       "      <td>3.75</td>\n",
       "      <td>t</td>\n",
       "      <td>t</td>\n",
       "      <td>5</td>\n",
       "      <td>t</td>\n",
       "      <td>g</td>\n",
       "      <td>00100</td>\n",
       "      <td>3</td>\n",
       "      <td>+</td>\n",
       "    </tr>\n",
       "    <tr>\n",
       "      <th>3</th>\n",
       "      <td>b</td>\n",
       "      <td>20.17</td>\n",
       "      <td>5.625</td>\n",
       "      <td>u</td>\n",
       "      <td>g</td>\n",
       "      <td>w</td>\n",
       "      <td>v</td>\n",
       "      <td>1.71</td>\n",
       "      <td>t</td>\n",
       "      <td>f</td>\n",
       "      <td>0</td>\n",
       "      <td>f</td>\n",
       "      <td>s</td>\n",
       "      <td>00120</td>\n",
       "      <td>0</td>\n",
       "      <td>+</td>\n",
       "    </tr>\n",
       "    <tr>\n",
       "      <th>4</th>\n",
       "      <td>b</td>\n",
       "      <td>32.08</td>\n",
       "      <td>4.000</td>\n",
       "      <td>u</td>\n",
       "      <td>g</td>\n",
       "      <td>m</td>\n",
       "      <td>v</td>\n",
       "      <td>2.50</td>\n",
       "      <td>t</td>\n",
       "      <td>f</td>\n",
       "      <td>0</td>\n",
       "      <td>t</td>\n",
       "      <td>g</td>\n",
       "      <td>00360</td>\n",
       "      <td>0</td>\n",
       "      <td>+</td>\n",
       "    </tr>\n",
       "  </tbody>\n",
       "</table>\n",
       "</div>"
      ],
      "text/plain": [
       "   b  30.83      0  u  g  w  v  1.25  t t.1  01  f g.1  00202  0.1  +\n",
       "0  a  58.67  4.460  u  g  q  h  3.04  t   t   6  f   g  00043  560  +\n",
       "1  a  24.50  0.500  u  g  q  h  1.50  t   f   0  f   g  00280  824  +\n",
       "2  b  27.83  1.540  u  g  w  v  3.75  t   t   5  t   g  00100    3  +\n",
       "3  b  20.17  5.625  u  g  w  v  1.71  t   f   0  f   s  00120    0  +\n",
       "4  b  32.08  4.000  u  g  m  v  2.50  t   f   0  t   g  00360    0  +"
      ]
     },
     "execution_count": 4,
     "metadata": {},
     "output_type": "execute_result"
    }
   ],
   "source": [
    "df = pd.read_csv(\"data.csv\")\n",
    "df.head()"
   ]
  },
  {
   "cell_type": "code",
   "execution_count": 5,
   "metadata": {},
   "outputs": [
    {
     "data": {
      "text/plain": [
       "Index(['b', '30.83', '0', 'u', 'g', 'w', 'v', '1.25', 't', 't.1', '01', 'f',\n",
       "       'g.1', '00202', '0.1', '+'],\n",
       "      dtype='object')"
      ]
     },
     "execution_count": 5,
     "metadata": {},
     "output_type": "execute_result"
    }
   ],
   "source": [
    "df.columns\n"
   ]
  },
  {
   "cell_type": "code",
   "execution_count": 6,
   "metadata": {},
   "outputs": [
    {
     "data": {
      "text/plain": [
       "b         object\n",
       "30.83     object\n",
       "0        float64\n",
       "u         object\n",
       "g         object\n",
       "w         object\n",
       "v         object\n",
       "1.25     float64\n",
       "t         object\n",
       "t.1       object\n",
       "01         int64\n",
       "f         object\n",
       "g.1       object\n",
       "00202     object\n",
       "0.1        int64\n",
       "+         object\n",
       "dtype: object"
      ]
     },
     "execution_count": 6,
     "metadata": {},
     "output_type": "execute_result"
    }
   ],
   "source": [
    "df.dtypes"
   ]
  },
  {
   "attachments": {},
   "cell_type": "markdown",
   "metadata": {},
   "source": [
    "Checking presence of Headings"
   ]
  },
  {
   "cell_type": "code",
   "execution_count": 7,
   "metadata": {},
   "outputs": [
    {
     "name": "stdout",
     "output_type": "stream",
     "text": [
      "The CSV file does not have headings in the first row.\n"
     ]
    }
   ],
   "source": [
    "import csv\n",
    "\n",
    "filename = \"data.csv\"\n",
    "\n",
    "# Open the CSV file in read mode\n",
    "with open(filename, 'r') as csvfile:\n",
    "\n",
    "  # Create a CSV reader object\n",
    "  csvreader = csv.reader(csvfile)\n",
    "\n",
    "  # Get the first row from the CSV file\n",
    "  first_row = next(csvreader)\n",
    "\n",
    "  # Check if the first row contains headings or not\n",
    "  if any(field.strip() != '' for field in first_row) and not any(field.strip().isdigit() for field in first_row):\n",
    "    print(\"The CSV file has headings in the first row.\")\n",
    "  else:\n",
    "    print(\"The CSV file does not have headings in the first row.\")"
   ]
  },
  {
   "cell_type": "code",
   "execution_count": null,
   "metadata": {},
   "outputs": [],
   "source": []
  },
  {
   "attachments": {},
   "cell_type": "markdown",
   "metadata": {},
   "source": [
    "1 Missing Values"
   ]
  },
  {
   "cell_type": "code",
   "execution_count": 8,
   "metadata": {},
   "outputs": [
    {
     "name": "stdout",
     "output_type": "stream",
     "text": [
      "b        0.0\n",
      "30.83    0.0\n",
      "0        0.0\n",
      "u        0.0\n",
      "g        0.0\n",
      "w        0.0\n",
      "v        0.0\n",
      "1.25     0.0\n",
      "t        0.0\n",
      "t.1      0.0\n",
      "01       0.0\n",
      "f        0.0\n",
      "g.1      0.0\n",
      "00202    0.0\n",
      "0.1      0.0\n",
      "+        0.0\n",
      "dtype: float64\n"
     ]
    },
    {
     "data": {
      "image/png": "[encoded data removed]",
      "text/plain": [
       "<Figure size 640x480 with 2 Axes>"
      ]
     },
     "metadata": {},
     "output_type": "display_data"
    }
   ],
   "source": [
    "\n",
    "# Visualize missing data using a heatmap\n",
    "import seaborn as sns\n",
    "sns.heatmap(df.isnull(), cmap='viridis')\n",
    "\n",
    "# Calculate percentage of missing values for each column\n",
    "missing_values = df.isnull().sum() / len(df) * 100\n",
    "print(missing_values)\n",
    "\n"
   ]
  },
  {
   "attachments": {},
   "cell_type": "markdown",
   "metadata": {},
   "source": [
    "2 Outliers"
   ]
  },
  {
   "cell_type": "code",
   "execution_count": 9,
   "metadata": {},
   "outputs": [
    {
     "name": "stdout",
     "output_type": "stream",
     "text": [
      "0 has 2.467343976777939% outliers\n",
      "1.25 has 9.143686502177069% outliers\n",
      "01 has 11.46589259796807% outliers\n",
      "0.1 has 16.25544267053701% outliers\n",
      "\n",
      "The dataset has outliers\n"
     ]
    },
    {
     "data": {
      "image/png": "[encoded data removed]",
      "text/plain": [
       "<Figure size 640x480 with 1 Axes>"
      ]
     },
     "metadata": {},
     "output_type": "display_data"
    }
   ],
   "source": [
    "# Plot boxplots for all numerical columns\n",
    "sns.boxplot(data=df.select_dtypes(include=['float64', 'int64']))\n",
    "# Visualize boxplots to detect outliers\n",
    "hasOutliers = False\n",
    "for col in df.columns:\n",
    "    # if its numerical column, then print the percentage of outlier\n",
    "    if df[col].dtype == 'float64' or df[col].dtype == 'int64':\n",
    "        # Calculate the first and third quartile\n",
    "        Q1 = df[col].quantile(0.25)\n",
    "        Q3 = df[col].quantile(0.75)\n",
    "        # Calculate the interquartile range\n",
    "        IQR = Q3 - Q1\n",
    "        # Calculate the outlier step\n",
    "        outlier_step = 1.5 * IQR\n",
    "        # Calculate the number of outliers\n",
    "        num_outliers = len(df[(df[col] < Q1 - outlier_step) | (df[col] > Q3 + outlier_step)])\n",
    "        # Calculate the percentage of outliers\n",
    "        perc_outliers = num_outliers / len(df) * 100\n",
    "        print(f'{col} has {perc_outliers}% outliers')\n",
    "        if perc_outliers > 0:\n",
    "            hasOutliers = True\n",
    "\n",
    "if hasOutliers:\n",
    "    print('\\nThe dataset has outliers')\n",
    "else:\n",
    "    print('\\nThe dataset does not have outliers')\n",
    "\n"
   ]
  },
  {
   "cell_type": "code",
   "execution_count": 10,
   "metadata": {},
   "outputs": [],
   "source": [
    "# # Visualize histograms to identify anomalous data\n",
    "# for col in df.columns:\n",
    "#     plt.hist(df[col], bins=50)\n",
    "#     plt.title(col)\n",
    "#     plt.show()\n",
    "\n",
    "# # Calculate summary statistics to identify anomalous data\n",
    "# for col in df.columns:\n",
    "#     mean = df[col].mean()\n",
    "#     std = df[col].std()\n",
    "#     anomalies = df[(df[col] < mean-3*std) | (df[col] > mean+3*std)]\n",
    "#     print(col, len(anomalies))"
   ]
  },
  {
   "cell_type": "code",
   "execution_count": 11,
   "metadata": {},
   "outputs": [
    {
     "ename": "NameError",
     "evalue": "name 'LabelEncoder' is not defined",
     "output_type": "error",
     "traceback": [
      "\u001b[1;31m---------------------------------------------------------------------------\u001b[0m",
      "\u001b[1;31mNameError\u001b[0m                                 Traceback (most recent call last)",
      "Cell \u001b[1;32mIn[11], line 5\u001b[0m\n\u001b[0;32m      3\u001b[0m \u001b[39mif\u001b[39;00m \u001b[39mlen\u001b[39m(cat_cols) \u001b[39m>\u001b[39m \u001b[39m0\u001b[39m:\n\u001b[0;32m      4\u001b[0m     \u001b[39mfor\u001b[39;00m col \u001b[39min\u001b[39;00m cat_cols:\n\u001b[1;32m----> 5\u001b[0m         le \u001b[39m=\u001b[39m LabelEncoder()\n\u001b[0;32m      6\u001b[0m         df[col] \u001b[39m=\u001b[39m le\u001b[39m.\u001b[39mfit_transform(df[col])\n\u001b[0;32m      7\u001b[0m         oh \u001b[39m=\u001b[39m OneHotEncoder(sparse\u001b[39m=\u001b[39m\u001b[39mFalse\u001b[39;00m)\n",
      "\u001b[1;31mNameError\u001b[0m: name 'LabelEncoder' is not defined"
     ]
    }
   ],
   "source": [
    "\n",
    "# Encode categorical variables\n",
    "cat_cols = [col for col in df.columns if df[col].dtype == 'object']\n",
    "if len(cat_cols) > 0:\n",
    "    for col in cat_cols:\n",
    "        le = LabelEncoder()\n",
    "        df[col] = le.fit_transform(df[col])\n",
    "        oh = OneHotEncoder(sparse=False)\n",
    "        oh_cols = pd.DataFrame(oh.fit_transform(df[[col]]))\n",
    "        oh_cols.columns = [col + '_' + str(i) for i in range(len(oh_cols.columns))]\n",
    "        df = pd.concat([df, oh_cols], axis=1)\n",
    "    df.drop(cat_cols, axis=1, inplace=True)\n",
    "\n",
    "# Remove low variance features\n",
    "selector = VarianceThreshold()\n",
    "selector.fit(df)\n",
    "low_var_cols = df.columns[~selector.get_support()]\n",
    "df.drop(low_var_cols, axis=1, inplace=True)\n"
   ]
  },
  {
   "cell_type": "code",
   "execution_count": null,
   "metadata": {},
   "outputs": [],
   "source": []
  }
 ],
 "metadata": {
  "kernelspec": {
   "display_name": "Python 3",
   "language": "python",
   "name": "python3"
  },
  "language_info": {
   "codemirror_mode": {
    "name": "ipython",
    "version": 3
   },
   "file_extension": ".py",
   "mimetype": "text/x-python",
   "name": "python",
   "nbconvert_exporter": "python",
   "pygments_lexer": "ipython3",
   "version": "3.11.2"
  },
  "orig_nbformat": 4,
  "vscode": {
   "interpreter": {
    "hash": "d1e76f36fd497ba09966a644cdb5ca2914f26d4c9a4ffe25cd98fef631710b92"
   }
  }
 },
 "nbformat": 4,
 "nbformat_minor": 2
}
